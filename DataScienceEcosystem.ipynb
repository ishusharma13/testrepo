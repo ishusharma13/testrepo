{
  "metadata": {
    "kernelspec": {
      "name": "python",
      "display_name": "Python (Pyodide)",
      "language": "python"
    },
    "language_info": {
      "codemirror_mode": {
        "name": "python",
        "version": 3
      },
      "file_extension": ".py",
      "mimetype": "text/x-python",
      "name": "python",
      "nbconvert_exporter": "python",
      "pygments_lexer": "ipython3",
      "version": "3.8"
    }
  },
  "nbformat_minor": 5,
  "nbformat": 4,
  "cells": [
    {
      "id": "7b665919-864d-41bc-81f2-4a51d42d28ff",
      "cell_type": "markdown",
      "source": "# Data Science Tools and Ecosystem\n",
      "metadata": {}
    },
    {
      "id": "d0c7d5f0-0121-4ae9-b96c-25bf46bc2e03",
      "cell_type": "markdown",
      "source": "In this notebook, Data Science Tools and Ecosystem are summarized.",
      "metadata": {}
    },
    {
      "id": "795e25c8-91fd-4ed5-ab63-c7e79aeb6fa8",
      "cell_type": "markdown",
      "source": "**Objectives:**\n\n- List popular languages for Data Science.\n- Introduce common data science tools and their applications.\n- Demonstrate how to evaluate basic arithmetic expressions in Python.\n- Discuss key concepts and operations used in data analysis.\n- Explore open-source development environments for data science.\n",
      "metadata": {}
    },
    {
      "id": "8ef2d21b-11dc-45f1-b2e2-970b304a99d5",
      "cell_type": "markdown",
      "source": "Some of the popular languages that Data Scientists use are:\n\n1. Python\n2. R\n3. SQL\n4. Java\n5. Julia\n",
      "metadata": {}
    },
    {
      "id": "9ea036cc-16b2-46cb-98cb-0232953c4202",
      "cell_type": "markdown",
      "source": "Some of the commonly used libraries used by Data Scientists include:\n\n1. Pandas\n2. NumPy\n3. Matplotlib\n4. Scikit-learn\n5. TensorFlow",
      "metadata": {}
    },
    {
      "id": "9b28d59d-f88b-4dd6-8887-bd6fbf41a206",
      "cell_type": "markdown",
      "source": "| Data Science Tools     |\n|------------------------|\n| Jupyter Notebooks      |\n| RStudio                |\n| Apache Zeppelin        |\n",
      "metadata": {}
    },
    {
      "id": "7049af89-af1b-4837-adb2-579bb6bbe5c3",
      "cell_type": "markdown",
      "source": "### Below are a few examples of evaluating arithmetic expressions in Python.\n\n1. Addition\n   result = 5 + 3\n   print(result)  # Output: 8\n\n2. Substraction\n   result = 5 - 3\n   print(result)  # Output: 2\n\n3. Multiplication\n   result = 5 * 3\n   print(result)  # Output: 15\n\n4. Division\n   result = 6 / 3\n   print(result)  # Output: 2\n\n\n",
      "metadata": {}
    },
    {
      "id": "9b83c388-f727-4ddb-9fe6-07fba1dca517",
      "cell_type": "code",
      "source": "# This a simple arithmetic expression to mutiply then add integers\nresult = (3*4)+5\nprint(result)\n",
      "metadata": {
        "trusted": true
      },
      "outputs": [
        {
          "name": "stdout",
          "output_type": "stream",
          "text": "17\n"
        }
      ],
      "execution_count": 8
    },
    {
      "id": "898380ee-bcd9-4c78-91f8-1537a12de2c6",
      "cell_type": "code",
      "source": " # This will convert 200 minutes to hours by diving by 60\ntime_in_hours = 200/60\nprint(time_in_hours)",
      "metadata": {
        "trusted": true
      },
      "outputs": [
        {
          "name": "stdout",
          "output_type": "stream",
          "text": "3.3333333333333335\n"
        }
      ],
      "execution_count": 9
    },
    {
      "id": "d9140183-601a-486f-ab2e-5a9ab12d59ec",
      "cell_type": "markdown",
      "source": "## Author\n\nIshu Sharma\n",
      "metadata": {}
    },
    {
      "id": "ff04275c-4edc-47f1-930e-2aaac64c53f4",
      "cell_type": "code",
      "source": "",
      "metadata": {
        "trusted": true
      },
      "outputs": [],
      "execution_count": null
    }
  ]
}